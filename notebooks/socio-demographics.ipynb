{
 "cells": [
  {
   "cell_type": "code",
   "execution_count": null,
   "id": "2641aa1f",
   "metadata": {},
   "outputs": [],
   "source": [
    "import pandas as pd\n",
    "import numpy as np\n",
    "from datenspende_who5.colors import flatuicolors as colors\n",
    "from matplotlib import pyplot as plt\n",
    "from datenspende_who5.styling import hide_and_move_axis\n",
    "import string"
   ]
  },
  {
   "cell_type": "code",
   "execution_count": null,
   "id": "f01b8b42",
   "metadata": {},
   "outputs": [],
   "source": [
    "df = pd.read_feather('../data/03_derived/input_data_users_surveys_rolling_vitals.feather')\n",
    "df = df[~df.user_id.isin([1143114, 1143193, 1144681, 1147298, 1144157, 1155559])]\n",
    "df = df[~df.birth_date.isin([2004, 1984, 2005])]\n",
    "\n",
    "df['age'] = (2020 - df.birth_date + 2.5) \n",
    "\n",
    "age_level1 = 35\n",
    "age_level2 = 60\n",
    "\n",
    "df.loc[df['age'].between(0, 35, inclusive='left'), 'age_group'] = 0\n",
    "df.loc[df['age'].between(35, 60, inclusive='left'), 'age_group'] = 1\n",
    "df.loc[df['age'].between(60, 100, inclusive='left'), 'age_group'] = 2"
   ]
  },
  {
   "cell_type": "code",
   "execution_count": null,
   "id": "5e82f1c9",
   "metadata": {},
   "outputs": [],
   "source": [
    "def plot_wellbeing_per_gender(ax, df, binwidth=0.2):\n",
    "\n",
    "    wellbeing_per_gender = df.groupby('user_id')[['salutation', 'total_wellbeing']].agg({'salutation': 'max', 'total_wellbeing': 'mean'})\n",
    "    \n",
    "    for salutation in ('M', 'F'):\n",
    "\n",
    "        sign = (1. if salutation == 'M' else -1)\n",
    "        color = (colors.greensea if salutation == 'M' else colors.pumpkin)\n",
    "        label = ('Male' if salutation == 'M' else 'Female')\n",
    "\n",
    "\n",
    "        values = wellbeing_per_gender[wellbeing_per_gender.salutation == salutation].total_wellbeing\n",
    "        count, bins = np.histogram(values, bins=np.arange(1 - .5 * binwidth, 5 + .501 * binwidth, binwidth))\n",
    "        bins = .5 * (bins[1:] + bins[:-1])\n",
    "        w = .4 * np.diff(bins)[0]\n",
    "        count = count / len(values)\n",
    "\n",
    "        ax.bar(bins, count, width=sign * w, align='edge', edgecolor='w', label=label, color=color)\n",
    "\n",
    "    hide_and_move_axis(ax)\n",
    "\n",
    "    ax.legend()\n",
    "    ax.set_xlabel('Average WHO-5 Wellbeing')\n",
    "    ax.set_ylabel('Relative Frequency')\n",
    "    \n",
    "    \n",
    "def plot_wellbeing_per_age(ax, df, color=colors.wisteria):\n",
    "    \n",
    "    # First aggregate per user\n",
    "    df_age = df.groupby('user_id')[['birth_date', 'total_wellbeing']].mean()\n",
    "    \n",
    "    # Then aggregate per birth_date\n",
    "    df_age = df_age.groupby('birth_date').agg(['mean', 'std', 'count'])\n",
    "    \n",
    "    df_age.columns = df_age.columns.droplevel(0)\n",
    "    df_age['err'] = 1.96 * df_age['std'] / np.sqrt(df_age['count'])\n",
    "\n",
    "    ax.fill_between(df_age.index, df_age['mean'] - df_age['err'], df_age['mean'] + df_age['err'], alpha=.3, color=color)\n",
    "    ax.plot(df_age['mean'], color=color, marker='o', markersize=4)\n",
    "    \n",
    "    hide_and_move_axis(ax)\n",
    "\n",
    "    #ax.legend()\n",
    "    ax.set_xlabel('Birth Year')\n",
    "    ax.set_ylabel('Average WHO-5 Wellbeing')\n",
    "    ax.set_xticks(range(1930, 2010, 10))\n",
    "    \n",
    "    \n",
    "def add_label(axarr, pos, size=20):\n",
    "    \n",
    "    for i, ax in enumerate(axarr.flatten()):\n",
    "        label = string.ascii_uppercase[i]\n",
    "        \n",
    "        xmin, xmax = ax.get_xlim()\n",
    "        ymin, ymax = ax.get_ylim()\n",
    "        \n",
    "        if pos[i] == 'upper left':\n",
    "            ax.text(xmin + 0.05 * (xmax - xmin), ymin + .87 * (ymax - ymin), label, size=size)\n",
    "        elif pos[i] == 'upper right':\n",
    "            ax.text(xmin + 0.95 * (xmax - xmin), ymin + .925 * (ymax - ymin), label, size=size)\n",
    "        elif pos[i] == 'lower left':\n",
    "            ax.text(xmin + 0.05 * (xmax - xmin), ymin + .05 * (ymax - ymin), label, size=size)"
   ]
  },
  {
   "cell_type": "code",
   "execution_count": null,
   "id": "d8a977d4",
   "metadata": {},
   "outputs": [],
   "source": [
    "f, axarr = plt.subplots(1, 2, figsize=(10, 3.5))\n",
    "plot_wellbeing_per_gender(axarr[0], df, binwidth=.5)\n",
    "plot_wellbeing_per_age(axarr[1], df)\n",
    "\n",
    "add_label(axarr, pos=['upper left', 'lower left'], size=25)\n",
    "\n",
    "plt.savefig('../output/socio-demographics.pdf')"
   ]
  }
 ],
 "metadata": {
  "kernelspec": {
   "display_name": "Python 3 (ipykernel)",
   "language": "python",
   "name": "python3"
  },
  "language_info": {
   "codemirror_mode": {
    "name": "ipython",
    "version": 3
   },
   "file_extension": ".py",
   "mimetype": "text/x-python",
   "name": "python",
   "nbconvert_exporter": "python",
   "pygments_lexer": "ipython3",
   "version": "3.11.1"
  }
 },
 "nbformat": 4,
 "nbformat_minor": 5
}

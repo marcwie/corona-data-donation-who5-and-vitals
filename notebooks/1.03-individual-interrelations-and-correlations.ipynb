{
 "cells": [
  {
   "cell_type": "code",
   "execution_count": null,
   "id": "2336e0d7",
   "metadata": {},
   "outputs": [],
   "source": [
    "import pandas as pd\n",
    "from matplotlib import pyplot as plt\n",
    "import numpy as np\n",
    "from datenspende_who5.styling import hide_and_move_axis\n",
    "from textwrap import wrap"
   ]
  },
  {
   "cell_type": "code",
   "execution_count": null,
   "id": "d0905cc0",
   "metadata": {},
   "outputs": [],
   "source": [
    "data = pd.read_feather('../data/03_derived/input_data_users_surveys_rolling_vitals.feather')"
   ]
  },
  {
   "cell_type": "code",
   "execution_count": null,
   "id": "fb0be028",
   "metadata": {},
   "outputs": [],
   "source": [
    "wording = {\n",
    "        'q49': 'For the last four weeks I have been happy and in good spirits.',\n",
    "        'q50': 'In the last four weeks I have felt calm and relaxed.',\n",
    "        'q54': 'For the past four weeks, I have felt energetic and active.',\n",
    "        'q55': 'For the past four weeks, I have felt fresh and rested when I wake up.',\n",
    "        'q56': 'For the past four weeks, my daily life has been full of things that interest me.',\n",
    "        'total_wellbeing': 'Average wellbeing'\n",
    "}"
   ]
  },
  {
   "cell_type": "code",
   "execution_count": null,
   "id": "af0bc34d",
   "metadata": {},
   "outputs": [],
   "source": [
    "vitals_keys = [\n",
    "    'v9', 'v43', 'v65', 'v52', 'v53', 'midsleep', 'v9weekend', \n",
    "    'v43weekend', 'v65weekend', 'v52weekend', 'v53weekend',\n",
    "    'midsleepweekend', 'v9weekday', 'v43weekday', 'v65weekday',\n",
    "    'v52weekday', 'v53weekday', 'midsleepweekday', 'v9difference',\n",
    "    'v65difference', 'v43difference', 'v52difference', 'v53difference',\n",
    "    'social_jetlag'\n",
    "]\n",
    "\n",
    "question_keys = ['q49', 'q50', 'q54', 'q55', 'q56', 'total_wellbeing']"
   ]
  },
  {
   "cell_type": "code",
   "execution_count": null,
   "id": "29bbdca2",
   "metadata": {},
   "outputs": [],
   "source": [
    "def corrcoef(group, question_key, vital_key):\n",
    "    x = group[vital_key]\n",
    "    y = group[question_key]\n",
    "    \n",
    "    mask = np.isfinite(x) & np.isfinite(y)\n",
    "    n = mask.sum()\n",
    "    \n",
    "    if n < 2:\n",
    "        corr = np.nan\n",
    "    else:\n",
    "        corr = np.corrcoef(x[mask], y[mask])[0, 1]\n",
    "    \n",
    "    return corr, n"
   ]
  },
  {
   "cell_type": "code",
   "execution_count": null,
   "id": "f2901d8e",
   "metadata": {},
   "outputs": [],
   "source": [
    "corr_df = corr = data.groupby(['userid', 'deviceid']).size().reset_index().drop(columns=0)\n",
    "\n",
    "for question_key in ['q49', 'q50', 'q54', 'q55', 'q56', 'total_wellbeing', ]:\n",
    "    for vital_key in ['v9', 'v65', 'v43', 'v52', 'v53']:\n",
    "        \n",
    "        print(question_key, vital_key)\n",
    "        \n",
    "        corr = data.groupby(['userid', 'deviceid']).apply(corrcoef, question_key, vital_key).reset_index()\n",
    "        corr[f'{question_key}_{vital_key}_corr'] = corr[0].apply(lambda x: x[0])\n",
    "        corr[f'{question_key}_{vital_key}_N'] = corr[0].apply(lambda x: x[1])\n",
    "        corr.drop(columns=0, inplace=True)\n",
    "\n",
    "        corr_df = pd.merge(corr_df, corr, on=['userid', 'deviceid'])"
   ]
  },
  {
   "cell_type": "code",
   "execution_count": null,
   "id": "54506bcb",
   "metadata": {},
   "outputs": [],
   "source": [
    "vitals = {'v9': 'Steps', 'v65': 'RHR', 'v43': 'Sleep duration', 'v52': 'Sleep onset', 'v53': 'Sleep offset'}\n",
    "\n",
    "def plot_correlations(vital_key):\n",
    "\n",
    "    title = vitals[vital_key]\n",
    "\n",
    "    f, axarr = plt.subplots(2, 3, figsize=(10, 6), sharex=True, sharey=True)\n",
    "\n",
    "    for question_key, ax in zip(wording.keys(), axarr.flatten()):\n",
    "\n",
    "        corrs = corr_df[f'{question_key}_{vital_key}_corr']\n",
    "        N = corr_df[f'{question_key}_{vital_key}_N']\n",
    "        corrs = corrs[N >= 10]\n",
    "\n",
    "        ax.hist(corrs, bins=np.arange(-1, 1.0001, 0.05), density=True, alpha=0.9)\n",
    "        ax.axvline(np.nanmedian(corrs), c='k')\n",
    "        hide_and_move_axis(ax)\n",
    "        ax.set_title('\\n'.join(wrap(wording[question_key], 30)), size=10)\n",
    "\n",
    "    for ax in axarr[1]:\n",
    "        ax.set_xlabel(f'Correlation Coefficient\\nwith {title}')\n",
    "\n",
    "    for ax in axarr[:, 0]:\n",
    "        ax.set_ylabel('Probability density')\n",
    "\n",
    "    plt.tight_layout()\n",
    "    plt.savefig(f'../output/correlations/correlations_{title}.pdf')"
   ]
  },
  {
   "cell_type": "code",
   "execution_count": null,
   "id": "c37e52e5",
   "metadata": {},
   "outputs": [],
   "source": [
    "plot_correlations('v9')\n",
    "plot_correlations('v65')\n",
    "plot_correlations('v43')\n",
    "plot_correlations('v52')\n",
    "plot_correlations('v53')"
   ]
  },
  {
   "cell_type": "code",
   "execution_count": null,
   "id": "0d7e8e7e",
   "metadata": {},
   "outputs": [],
   "source": [
    "averages = data.drop(columns=['salutation', 'NUTS3']).groupby(['user_id', 'deviceid']).mean().reset_index()"
   ]
  },
  {
   "cell_type": "code",
   "execution_count": null,
   "id": "31c13115",
   "metadata": {},
   "outputs": [],
   "source": [
    "averages = pd.merge(averages, corr_df, on=['userid', 'deviceid'])"
   ]
  },
  {
   "cell_type": "code",
   "execution_count": null,
   "id": "87fd64a8",
   "metadata": {},
   "outputs": [],
   "source": [
    "averages.v53.median()"
   ]
  },
  {
   "cell_type": "code",
   "execution_count": null,
   "id": "949a92d5",
   "metadata": {},
   "outputs": [],
   "source": [
    "vitals = {'v9': 'Steps', 'v65': 'RHR', 'v43': 'Sleep duration', 'v52': 'Sleep onset', 'v53': 'Sleep offset'}\n",
    "\n",
    "def plot_correlation_discriminated(vital_key, threshold):\n",
    "\n",
    "    title = vitals[vital_key]\n",
    "    label=[f'{title} > {threshold}', f'{title} < {threshold}']\n",
    "\n",
    "    f, axarr = plt.subplots(2, 3, figsize=(10, 6), sharex=True, sharey=True)\n",
    "\n",
    "    for question_key, ax in zip(wording.keys(), axarr.flatten()):\n",
    "\n",
    "        corrs = averages[f'{question_key}_{vital_key}_corr']\n",
    "        N = averages[f'{question_key}_{vital_key}_N']\n",
    "        value = averages[vital_key]\n",
    "\n",
    "        corrs1 = corrs[(N >= 10) & (value > threshold)]\n",
    "        corrs2 = corrs[(N >= 10) & (value < threshold)]\n",
    "\n",
    "        corrs = [corrs1, corrs2]\n",
    "\n",
    "        ax.hist(corrs, bins=np.arange(-1, 1.0001, 0.2), density=True, alpha=0.9, label=label)\n",
    "        #ax.axvline(np.nanmedian(corrs), c='k')\n",
    "        hide_and_move_axis(ax)\n",
    "        ax.set_title('\\n'.join(wrap(wording[question_key], 30)), size=10)\n",
    "\n",
    "    for ax in axarr[1]:\n",
    "        ax.set_xlabel(f'Correlation Coefficient\\nwith {title}')\n",
    "\n",
    "    for ax in axarr[:, 0]:\n",
    "        ax.set_ylabel('Probability density')\n",
    "\n",
    "    axarr[0, 0].legend(loc='upper left')\n",
    "    plt.tight_layout()\n",
    "    \n",
    "    plt.savefig(f'../output/correlations/correlations_{title}_discriminated.pdf')"
   ]
  },
  {
   "cell_type": "code",
   "execution_count": null,
   "id": "c4b8648d",
   "metadata": {},
   "outputs": [],
   "source": [
    "plot_correlation_discriminated('v43', 420)\n",
    "plot_correlation_discriminated('v52', -1)\n",
    "plot_correlation_discriminated('v53', 7)"
   ]
  }
 ],
 "metadata": {
  "kernelspec": {
   "display_name": "Python 3 (ipykernel)",
   "language": "python",
   "name": "python3"
  },
  "language_info": {
   "codemirror_mode": {
    "name": "ipython",
    "version": 3
   },
   "file_extension": ".py",
   "mimetype": "text/x-python",
   "name": "python",
   "nbconvert_exporter": "python",
   "pygments_lexer": "ipython3",
   "version": "3.11.1"
  }
 },
 "nbformat": 4,
 "nbformat_minor": 5
}

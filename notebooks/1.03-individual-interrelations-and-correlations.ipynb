{
 "cells": [
  {
   "cell_type": "code",
   "execution_count": null,
   "id": "2336e0d7",
   "metadata": {},
   "outputs": [],
   "source": [
    "import pandas as pd\n",
    "from matplotlib import pyplot as plt\n",
    "from datenspende_who5.styling import hide_and_move_axis\n",
    "from textwrap import wrap\n",
    "import numpy as np\n",
    "from scipy.stats import pearsonr"
   ]
  },
  {
   "cell_type": "code",
   "execution_count": null,
   "id": "8b005396",
   "metadata": {},
   "outputs": [],
   "source": [
    "correlations = pd.read_feather('../data/03_derived/correlation_coefficients.feather')\n",
    "data = pd.read_feather('../data/03_derived/input_data_users_surveys_rolling_vitals.feather')\n",
    "\n",
    "averages = data.drop(columns=['salutation', 'NUTS3']).groupby(['user_id', 'deviceid']).mean().reset_index()\n",
    "averages = pd.merge(averages, correlations, on=['userid', 'deviceid'])"
   ]
  },
  {
   "cell_type": "code",
   "execution_count": null,
   "id": "fb0be028",
   "metadata": {},
   "outputs": [],
   "source": [
    "wording = {\n",
    "        'q49': 'For the last four weeks I have been happy and in good spirits.',\n",
    "        'q50': 'In the last four weeks I have felt calm and relaxed.',\n",
    "        'q54': 'For the past four weeks, I have felt energetic and active.',\n",
    "        'q55': 'For the past four weeks, I have felt fresh and rested when I wake up.',\n",
    "        'q56': 'For the past four weeks, my daily life has been full of things that interest me.',\n",
    "        'total_wellbeing': 'Average wellbeing'\n",
    "}\n",
    "\n",
    "vitals = {\n",
    "    'v9': 'Steps', \n",
    "    'v65': 'RHR', \n",
    "    'v43': 'Sleep duration', \n",
    "    'v52': 'Sleep onset', \n",
    "    'v53': 'Sleep offset'\n",
    "}"
   ]
  },
  {
   "cell_type": "code",
   "execution_count": null,
   "id": "df70e462",
   "metadata": {},
   "outputs": [],
   "source": [
    "N[np.isfinite(p)]"
   ]
  },
  {
   "cell_type": "code",
   "execution_count": null,
   "id": "83bd1039",
   "metadata": {},
   "outputs": [],
   "source": [
    "corrs = correlations['total_wellbeing_v9_corr']\n",
    "p = correlations['total_wellbeing_v9_pvalue']\n",
    "N = correlations['total_wellbeing_v9_N']\n",
    "\n",
    "mask = np.isfinite(p)\n",
    "corrs = corrs[mask]\n",
    "N = N[mask]\n",
    "p = p[mask]\n",
    "\n",
    "count, bins = np.histogram(corrs[p < 0.05], bins=np.arange(-1, 1.1, 0.2))\n",
    "bins = .5 * (bins[1:] + bins[:-1]) \n",
    "width = np.diff(bins)[0]\n",
    "count = count / len(corrs)\n",
    "\n",
    "f, ax = plt.subplots()\n",
    "\n",
    "ax.bar(bins, count, width=width * .95)\n",
    "ax.set_xticks(bins)"
   ]
  },
  {
   "cell_type": "code",
   "execution_count": null,
   "id": "ce3fa11f",
   "metadata": {},
   "outputs": [],
   "source": [
    "def plot_correlations(vital_key):\n",
    "\n",
    "    title = vitals[vital_key]\n",
    "\n",
    "    f, axarr = plt.subplots(2, 3, figsize=(10, 6), sharex=True, sharey=True)\n",
    "\n",
    "    for question_key, ax in zip(wording.keys(), axarr.flatten()):\n",
    "\n",
    "        corrs = correlations[f'{question_key}_{vital_key}_corr']\n",
    "        N = correlations[f'{question_key}_{vital_key}_N']\n",
    "        corrs = corrs[N >= 10]\n",
    "\n",
    "        ax.hist(corrs, bins=np.arange(-1, 1.0001, 0.05), density=True, alpha=0.9)\n",
    "        ax.axvline(np.nanmedian(corrs), c='k')\n",
    "        hide_and_move_axis(ax)\n",
    "        ax.set_title('\\n'.join(wrap(wording[question_key], 30)), size=10)\n",
    "\n",
    "    for ax in axarr[1]:\n",
    "        ax.set_xlabel(f'Correlation Coefficient\\nwith {title}')\n",
    "\n",
    "    for ax in axarr[:, 0]:\n",
    "        ax.set_ylabel('Probability density')\n",
    "\n",
    "    plt.tight_layout()\n",
    "    plt.savefig(f'../output/correlations/correlations_{title}.pdf')\n",
    "    \n",
    "\n",
    "def plot_correlation_discriminated(vital_key, threshold):\n",
    "\n",
    "    title = vitals[vital_key]\n",
    "    label=[f'{title} > {threshold}', f'{title} < {threshold}']\n",
    "\n",
    "    f, axarr = plt.subplots(2, 3, figsize=(10, 6), sharex=True, sharey=True)\n",
    "\n",
    "    for question_key, ax in zip(wording.keys(), axarr.flatten()):\n",
    "\n",
    "        corrs = averages[f'{question_key}_{vital_key}_corr']\n",
    "        N = averages[f'{question_key}_{vital_key}_N']\n",
    "        value = averages[vital_key]\n",
    "\n",
    "        corrs1 = corrs[(N >= 10) & (value > threshold)]\n",
    "        corrs2 = corrs[(N >= 10) & (value < threshold)]\n",
    "\n",
    "        corrs = [corrs1, corrs2]\n",
    "\n",
    "        ax.hist(corrs, bins=np.arange(-1, 1.0001, 0.2), density=True, alpha=0.9, label=label)\n",
    "        #ax.axvline(np.nanmedian(corrs), c='k')\n",
    "        hide_and_move_axis(ax)\n",
    "        ax.set_title('\\n'.join(wrap(wording[question_key], 30)), size=10)\n",
    "\n",
    "    for ax in axarr[1]:\n",
    "        ax.set_xlabel(f'Correlation Coefficient\\nwith {title}')\n",
    "\n",
    "    for ax in axarr[:, 0]:\n",
    "        ax.set_ylabel('Probability density')\n",
    "\n",
    "    axarr[0, 0].legend(loc='upper left')\n",
    "    plt.tight_layout()\n",
    "    \n",
    "    plt.savefig(f'../output/correlations/correlations_{title}_discriminated.pdf')"
   ]
  },
  {
   "cell_type": "code",
   "execution_count": null,
   "id": "09b94e11",
   "metadata": {},
   "outputs": [],
   "source": [
    "for vital_key in vitals.keys():\n",
    "    plot_correlations(vital_key)"
   ]
  },
  {
   "cell_type": "code",
   "execution_count": null,
   "id": "c37e52e5",
   "metadata": {},
   "outputs": [],
   "source": [
    "plot_correlation_discriminated('v43', 420)\n",
    "plot_correlation_discriminated('v52', -1)\n",
    "plot_correlation_discriminated('v53', 7)"
   ]
  }
 ],
 "metadata": {
  "kernelspec": {
   "display_name": "Python 3 (ipykernel)",
   "language": "python",
   "name": "python3"
  },
  "language_info": {
   "codemirror_mode": {
    "name": "ipython",
    "version": 3
   },
   "file_extension": ".py",
   "mimetype": "text/x-python",
   "name": "python",
   "nbconvert_exporter": "python",
   "pygments_lexer": "ipython3",
   "version": "3.11.1"
  }
 },
 "nbformat": 4,
 "nbformat_minor": 5
}

{
 "cells": [
  {
   "cell_type": "code",
   "execution_count": null,
   "id": "e22eb205",
   "metadata": {},
   "outputs": [],
   "source": [
    "# TODO: \n",
    "# - Deal with Apple users!\n",
    "# - Deal with multiple devices per user!"
   ]
  },
  {
   "cell_type": "code",
   "execution_count": null,
   "id": "da6f6d3f",
   "metadata": {},
   "outputs": [],
   "source": [
    "import pandas as pd\n",
    "import numpy as np\n",
    "from matplotlib import pyplot as plt\n",
    "from datenspende_who5 import styling, utils\n",
    "from textwrap import wrap\n",
    "import datetime\n",
    "from pathlib import Path"
   ]
  },
  {
   "cell_type": "code",
   "execution_count": null,
   "id": "44d86a7a",
   "metadata": {},
   "outputs": [],
   "source": [
    "LABEL = {65: 'RHR', 9: 'Activity', 43: 'Sleep duration', 52: 'Sleep onset', 53: 'Sleep offset'}  \n",
    "\n",
    "QUESTION_IDS = [49, 50, 54, 55, 56]\n",
    "VITAL_IDS = [65, 9, 43, 52, 53]\n",
    "\n",
    "OUTPUT_FOLDER = '../output/{0}/'.format(datetime.datetime.now())\n",
    "Path(OUTPUT_FOLDER).mkdir(parents=True, exist_ok=True)"
   ]
  },
  {
   "cell_type": "markdown",
   "id": "5871e135",
   "metadata": {},
   "source": [
    "# Utils"
   ]
  },
  {
   "cell_type": "code",
   "execution_count": null,
   "id": "ab823d91",
   "metadata": {},
   "outputs": [],
   "source": [
    "def get_title(question, n_wrap):\n",
    "    \n",
    "    title = DATA[DATA.question == question].description.values[0]\n",
    "    title = '\\n'.join(wrap(title, n_wrap))\n",
    "\n",
    "    return title    \n",
    "\n",
    "\n",
    "def add_age(df, groups={'<40': (0, 40), '40-65': (40, 65), '65+': (65, 100)}):\n",
    "    \n",
    "    df['age'] = 2022 - df.birth_date + 2.5\n",
    "\n",
    "    for label, interval in groups.items():\n",
    "        vmin, vmax = interval\n",
    "        mask = (df.age >= vmin) & (df.age < vmax)\n",
    "        df.loc[mask, 'age_group'] = label \n",
    "    \n",
    "    df.dropna(subset='age_group', inplace=True)"
   ]
  },
  {
   "cell_type": "markdown",
   "id": "d0880b15",
   "metadata": {},
   "source": [
    "# Load & Preprocess Data"
   ]
  },
  {
   "cell_type": "code",
   "execution_count": null,
   "id": "65943620",
   "metadata": {},
   "outputs": [],
   "source": [
    "DATA = pd.read_feather('../data/03_derived/full_data_binned.feather')\n",
    "\n",
    "# Rebin data\n",
    "utils.bin_data(DATA, intervals={52: 0.25, 53: 0.25, 65: 2})\n",
    "\n",
    "# Set intervals for values that contain all days (weekends + weekdays)\n",
    "utils.remove_implausible(DATA, ranges={9: (0, 15000), 65: (45, 80), 52: (-3, 2), 43: {240, 540}, 53: (4, 9)}, columns=['value_binned'])\n",
    "\n",
    "# Add user ages\n",
    "add_age(DATA)"
   ]
  },
  {
   "cell_type": "markdown",
   "id": "4f2cbbc7",
   "metadata": {},
   "source": [
    "# Average vital data for each survey response"
   ]
  },
  {
   "cell_type": "code",
   "execution_count": null,
   "id": "36393aa3",
   "metadata": {},
   "outputs": [],
   "source": [
    "def plot_average_vitals_per_survey_response(df, outfile='1.02a-average_vital_per_survey_response.jpg'):\n",
    "    \n",
    "    f, axarr = plt.subplots(5, 5, figsize=(10, 7), sharey='row', sharex=True)\n",
    "    \n",
    "    df = utils.average(df, value='value', by=['question', 'vitalid', 'choice_id'])\n",
    "        \n",
    "    for row_id, question in enumerate(QUESTION_IDS):\n",
    "        for col_id, vital in enumerate(VITAL_IDS):\n",
    "            \n",
    "            plot_data = df.loc[question, vital]\n",
    "            x, y, err = plot_data.index, plot_data['mean'], plot_data['err']\n",
    "            \n",
    "            axarr[col_id, row_id].errorbar(x, y, yerr=err, fmt='o', markersize=4)\n",
    "            axarr[col_id, 0].set_ylabel(LABEL[vital]) \n",
    "\n",
    "        axarr[0, row_id].set_title(get_title(question, 30), size=8)\n",
    "\n",
    "    for ax in axarr.flatten():\n",
    "        styling.hide_and_move_axis(ax)\n",
    "        ax.set_xticks([1, 2, 3, 4, 5])\n",
    "\n",
    "    plt.tight_layout()\n",
    "    plt.savefig(OUTPUT_FOLDER+outfile, dpi=400)\n"
   ]
  },
  {
   "cell_type": "code",
   "execution_count": null,
   "id": "bfd7892b",
   "metadata": {},
   "outputs": [],
   "source": [
    "plot_average_vitals_per_survey_response(DATA)"
   ]
  },
  {
   "cell_type": "markdown",
   "id": "c0c0e7e0",
   "metadata": {},
   "source": [
    "# Average survey response for given vital data"
   ]
  },
  {
   "cell_type": "code",
   "execution_count": null,
   "id": "b2a14a4c",
   "metadata": {},
   "outputs": [],
   "source": [
    "def plot_average_survey_response_per_vital(df, outfile='1.02b-average_survey_response_per_vital.jpg'):\n",
    "    \n",
    "    f, axarr = plt.subplots(5, 5, figsize=(10, 7), sharex='col')\n",
    "\n",
    "    df = utils.average(df, value='choice_id', by=['question', 'vitalid', 'value_binned'])\n",
    "        \n",
    "    for row_id, question in enumerate(QUESTION_IDS):\n",
    "        for col_id, vital in enumerate(VITAL_IDS):\n",
    "            \n",
    "            plot_data = df.loc[question, vital]\n",
    "            x, y, err = plot_data.index, plot_data['mean'], plot_data['err']\n",
    "\n",
    "            axarr[row_id, col_id].errorbar(x, y, yerr=err, fmt='o', markersize=4)\n",
    "            axarr[-1, col_id].set_xlabel(LABEL[vital]) \n",
    "\n",
    "        axarr[row_id, 0].set_ylabel(get_title(question, 22), size=8)\n",
    "        \n",
    "    for ax in axarr.flatten():\n",
    "        styling.hide_and_move_axis(ax)\n",
    "\n",
    "    plt.tight_layout()\n",
    "    plt.savefig(OUTPUT_FOLDER+outfile, dpi=400)"
   ]
  },
  {
   "cell_type": "code",
   "execution_count": null,
   "id": "2a55e553",
   "metadata": {},
   "outputs": [],
   "source": [
    "plot_average_survey_response_per_vital(DATA)"
   ]
  },
  {
   "cell_type": "markdown",
   "id": "33bdbefa",
   "metadata": {},
   "source": [
    "# Total wellbeing"
   ]
  },
  {
   "cell_type": "code",
   "execution_count": null,
   "id": "0b3fcf9e",
   "metadata": {},
   "outputs": [],
   "source": [
    "def plot_total_wellbeing(df, vitals=(65, 9), outfile='1.02c-average_wellbeing.jpg'):\n",
    "\n",
    "    f, axarr = plt.subplots(1, len(vitals), figsize=(2 + 2 * len(vitals), 2.8), sharey=True)\n",
    "    all_users = utils.average(df, value='choice_id', by=['question', 'vitalid', 'value_binned'])\n",
    "    \n",
    "    for i, vital in enumerate(vitals):\n",
    "        plot = all_users.loc[60, vital]\n",
    "        x, y, err = plot.index, plot['mean'], plot.err * 1.96\n",
    "        axarr[i].errorbar(x, y, yerr=err, fmt='o', markersize=5)\n",
    "        axarr[i].set_xlabel(LABEL[vital])\n",
    "\n",
    "    axarr[0].set_ylabel('Average Wellbeing')\n",
    "    \n",
    "    for ax in axarr:\n",
    "        styling.hide_and_move_axis(ax)\n",
    "\n",
    "    plt.tight_layout()\n",
    "    plt.savefig(OUTPUT_FOLDER+outfile, dpi=400)"
   ]
  },
  {
   "cell_type": "code",
   "execution_count": null,
   "id": "69f05dd4",
   "metadata": {},
   "outputs": [],
   "source": [
    "plot_total_wellbeing(DATA, vitals=(65, 9), outfile='1.02c-average_wellbeing_rhr_steps.jpg')\n",
    "plot_total_wellbeing(DATA, vitals=(43, 52, 53), outfile='1.02c-average_wellbeing_sleep.jpg')"
   ]
  },
  {
   "cell_type": "markdown",
   "id": "667b05f7",
   "metadata": {},
   "source": [
    "# Discriminate by gender"
   ]
  },
  {
   "cell_type": "code",
   "execution_count": null,
   "id": "39a3f6af",
   "metadata": {},
   "outputs": [],
   "source": [
    "def plot_total_wellbeing_per_gender(df, vitals=(65, 9), outfile='1.02d-average_wellbeing_by_gender.jpg'):\n",
    "\n",
    "    f, axarr = plt.subplots(1, len(vitals), figsize=(2 + 2 * len(vitals), 2.8), sharey=True)\n",
    "    label = {'M': 'Male', 'F': 'Female'}\n",
    "    \n",
    "    all_users = utils.average(df, value='choice_id', by=['question', 'vitalid', 'value_binned'])\n",
    "    per_gender = utils.average(df, value='choice_id', by=['question', 'vitalid', 'value_binned', 'salutation'])\n",
    "\n",
    "    for i, vital in enumerate(vitals):\n",
    "        plot = all_users.loc[60, vital]\n",
    "        x, y, err = plot.index, plot['mean'], plot.err * 1.96\n",
    "        axarr[i].errorbar(x, y, yerr=err, fmt='o', markersize=5, label='All users')\n",
    "\n",
    "        for salutation in ('M', 'F'):\n",
    "            plot = per_gender.loc[60, vital, :, salutation]\n",
    "            x, y, err = plot.index, plot['mean'], plot.err * 1.96\n",
    "            axarr[i].errorbar(x, y, yerr=err, fmt='o', markersize=5, label=label[salutation])    \n",
    "        \n",
    "        axarr[i].set_xlabel(LABEL[vital])\n",
    "\n",
    "    axarr[0].set_ylabel('Average Wellbeing')\n",
    "    axarr[1].legend()\n",
    "\n",
    "    for ax in axarr:\n",
    "        styling.hide_and_move_axis(ax)\n",
    "\n",
    "    plt.tight_layout()\n",
    "    plt.savefig(OUTPUT_FOLDER+outfile, dpi=400)"
   ]
  },
  {
   "cell_type": "code",
   "execution_count": null,
   "id": "649dab63",
   "metadata": {},
   "outputs": [],
   "source": [
    "plot_total_wellbeing_per_gender(DATA, vitals=(65, 9, 52, 53))"
   ]
  },
  {
   "cell_type": "markdown",
   "id": "cb5e6f13",
   "metadata": {},
   "source": [
    "# Discriminate by age"
   ]
  },
  {
   "cell_type": "code",
   "execution_count": null,
   "id": "35ca8f9d",
   "metadata": {},
   "outputs": [],
   "source": [
    "def plot_total_wellbeing_per_age(df, vitals=(65, 9), outfile='1.02e-average_wellbeing_by_age.jpg'):\n",
    "\n",
    "    f, axarr = plt.subplots(1, len(vitals), figsize=(2 + 2 * len(vitals), 2.8), sharey=True)\n",
    "\n",
    "    all_users = utils.average(df, value='choice_id', by=['question', 'vitalid', 'value_binned'])\n",
    "    per_group = utils.average(df, value='choice_id', by=['question', 'vitalid', 'value_binned', 'age_group'])\n",
    "\n",
    "    for i, vital in enumerate(vitals):\n",
    "        plot = all_users.loc[60, vital]\n",
    "        x, y, err = plot.index, plot['mean'], plot.err * 1.96\n",
    "        axarr[i].errorbar(x, y, yerr=err, fmt='o', markersize=5, label='All users')\n",
    "\n",
    "        for age_group in df.age_group.unique():\n",
    "            plot = per_group.loc[60, vital, :, age_group]\n",
    "            x, y, err = plot.index, plot['mean'], plot.err * 1.96\n",
    "            axarr[i].errorbar(x, y, yerr=err, fmt='o', markersize=5, label=age_group)\n",
    "\n",
    "        axarr[i].set_xlabel(LABEL[vital])\n",
    "    \n",
    "    axarr[0].set_ylabel('Average Wellbeing')\n",
    "    axarr[-1].legend()\n",
    "\n",
    "    for ax in axarr:\n",
    "        styling.hide_and_move_axis(ax)\n",
    "    \n",
    "    plt.tight_layout()\n",
    "\n",
    "    plt.savefig(OUTPUT_FOLDER+outfile, dpi=400)"
   ]
  },
  {
   "cell_type": "code",
   "execution_count": null,
   "id": "64f72f31",
   "metadata": {},
   "outputs": [],
   "source": [
    "plot_total_wellbeing_per_age(DATA, vitals=(65, 9, 52, 53))"
   ]
  },
  {
   "cell_type": "markdown",
   "id": "cbda94f2",
   "metadata": {},
   "source": [
    "# Sandbox\n",
    "\n"
   ]
  },
  {
   "cell_type": "code",
   "execution_count": null,
   "id": "1ac3f101",
   "metadata": {},
   "outputs": [],
   "source": [
    "import sys\n",
    "sys.exit(0)"
   ]
  },
  {
   "cell_type": "markdown",
   "id": "829ad44e",
   "metadata": {},
   "source": [
    "## Some statistics"
   ]
  },
  {
   "cell_type": "code",
   "execution_count": null,
   "id": "f5e061ac",
   "metadata": {},
   "outputs": [],
   "source": [
    "users = pd.read_feather('../data/02_processed/users.feather')"
   ]
  },
  {
   "cell_type": "code",
   "execution_count": null,
   "id": "5353c0da",
   "metadata": {},
   "outputs": [],
   "source": [
    "f, ax = plt.subplots(figsize=(6, 4))\n",
    "\n",
    "BINS = bins=np.arange(1927.5, 2010, 5)\n",
    "\n",
    "count, bins = np.histogram(users.loc[users.salutation == 'M'].birth_date, bins=BINS, density=True)\n",
    "bins = .5 * (bins[:-1] + bins[1:])\n",
    "\n",
    "ax.bar(bins-1, count, width=2, label='M')\n",
    "\n",
    "count, bins = np.histogram(users.loc[users.salutation == 'F'].birth_date, bins=BINS, density=True)\n",
    "bins = .5 * (bins[:-1] + bins[1:])\n",
    "\n",
    "ax.bar(bins+1, count, width=2, label='F')\n",
    "\n",
    "ax.legend()\n",
    "\n",
    "styling.hide_and_move_axis(ax)\n",
    "ax.set_xticks(bins)\n",
    "ax.set_xticklabels(bins.astype(int), rotation=45, ha='right')\n",
    "ax.set_xlabel('Year of Birth')\n",
    "ax.set_ylabel('Relative Frequency')\n",
    "\n",
    "plt.savefig('../output/age_distribution.jpg', dpi=400)"
   ]
  },
  {
   "cell_type": "markdown",
   "id": "aab4439f",
   "metadata": {},
   "source": [
    "# Sleep "
   ]
  },
  {
   "cell_type": "code",
   "execution_count": null,
   "id": "dce9afe0",
   "metadata": {},
   "outputs": [],
   "source": [
    "def plot_total_wellbeing_sleep(df):\n",
    "\n",
    "    f, axarr = plt.subplots(1, 2, figsize=(6, 2.8), sharey=True)\n",
    "\n",
    "    df = utils.average(df, value='choice_id', by=['question', 'vitalid', 'value_binned'])\n",
    "\n",
    "    for i, vital in enumerate((52, 53)):\n",
    "        plot = df.loc[60, vital]\n",
    "        x, y, err = plot.index, plot['mean'], 1.96 * plot.err\n",
    "        axarr[i].errorbar(x, y, yerr=err, fmt='o', markersize=5)\n",
    "\n",
    "#axarr[0].set_xlabel('RHR [bpm]')\n",
    "#axarr[0].set_ylabel('Average Wellbeing')\n",
    "#axarr[1].set_xlabel('Activity [Steps]')\n",
    "#axarr[1].legend()\n",
    "\n",
    "for ax in axarr:\n",
    "    styling.hide_and_move_axis(ax)\n",
    "    \n",
    "plt.tight_layout()\n",
    "\n",
    "#plt.savefig('../output/average_wellbeing_by_gender.jpg', dpi=400)"
   ]
  },
  {
   "cell_type": "code",
   "execution_count": null,
   "id": "298f2e87",
   "metadata": {},
   "outputs": [],
   "source": [
    "_df = data[(data.vitalid == 52) & (data.question == 60)]\n",
    "plt.scatter(_df['value_weekday_binned'], _df['value_weekend_binned'], alpha=0.005)"
   ]
  },
  {
   "cell_type": "code",
   "execution_count": null,
   "id": "8ba96e2c",
   "metadata": {},
   "outputs": [],
   "source": [
    "onset = data[(data.question == 60) & (data.vitalid == 52)][['user_id', 'date', 'choice_id', 'value_binned']]\n",
    "offset = data[(data.question == 60) & (data.vitalid == 53)][['user_id', 'date', 'choice_id', 'value_binned']]"
   ]
  },
  {
   "cell_type": "code",
   "execution_count": null,
   "id": "c35a076d",
   "metadata": {},
   "outputs": [],
   "source": [
    "df = pd.merge(onset, offset, on=['user_id', 'date', 'choice_id'])\n",
    "df = df.groupby(['value_binned_x', 'value_binned_y']).choice_id.agg(['mean', 'std', 'count'])"
   ]
  },
  {
   "cell_type": "code",
   "execution_count": null,
   "id": "928c53b0",
   "metadata": {},
   "outputs": [],
   "source": [
    "onset_values = np.round(np.arange(-3, 2.2, 0.2), 1)\n",
    "offset_values = np.round(np.arange(4.6, 10, 0.2), 1)"
   ]
  },
  {
   "cell_type": "code",
   "execution_count": null,
   "id": "4335ffeb",
   "metadata": {},
   "outputs": [],
   "source": [
    "results = np.zeros((len(onset_values), len(offset_values)))\n",
    "\n",
    "for i, x in enumerate(onset_values):\n",
    "    for j, y in enumerate(offset_values):\n",
    "        if (x, y) in df.index and df.loc[x, y]['count'] > 100:\n",
    "            results[i, j] = df.loc[x, y]['mean']\n",
    "        else:\n",
    "            results[i, j] = np.nan"
   ]
  },
  {
   "cell_type": "code",
   "execution_count": null,
   "id": "c91361ff",
   "metadata": {},
   "outputs": [],
   "source": [
    "f, ax = plt.subplots()\n",
    "ax.imshow(results.T, origin='lower', extent=[-3, 2.2, 4.6, 10], vmin=3.1, vmax=3.3)"
   ]
  },
  {
   "cell_type": "code",
   "execution_count": null,
   "id": "023f1b81",
   "metadata": {},
   "outputs": [],
   "source": [
    "plt.contourf()"
   ]
  },
  {
   "cell_type": "code",
   "execution_count": null,
   "id": "0bb5caee",
   "metadata": {},
   "outputs": [],
   "source": [
    "plt.plot(np.nanmean(results, axis=1))"
   ]
  },
  {
   "cell_type": "code",
   "execution_count": null,
   "id": "99bc2f1a",
   "metadata": {},
   "outputs": [],
   "source": [
    "plt.hist(results.flatten())"
   ]
  },
  {
   "cell_type": "markdown",
   "id": "a17be395",
   "metadata": {},
   "source": [
    "# Unsorted"
   ]
  },
  {
   "cell_type": "code",
   "execution_count": null,
   "id": "de200512",
   "metadata": {},
   "outputs": [],
   "source": [
    "df = average_survey_response_per_vital(data)"
   ]
  },
  {
   "cell_type": "code",
   "execution_count": null,
   "id": "9e58d2f7",
   "metadata": {},
   "outputs": [],
   "source": [
    "rhr = data[data.vitalid == 65]\n",
    "steps = data[data.vitalid == 9]\n",
    "\n",
    "combined = pd.merge(rhr, steps, on=['user_id', 'date', 'question', 'choice_id', 'description'])\n",
    "\n",
    "cb = combined.groupby(['value_binned_x', 'value_binned_y']).choice_id.agg(['mean', 'std', 'count'])\n",
    "\n",
    "x_values = np.arange(45, 80, 1)\n",
    "y_values = np.arange(1000, 15001, 1000)\n",
    "\n",
    "results = np.zeros((len(x_values), len(y_values)))\n",
    "\n",
    "for i, x in enumerate(x_values):\n",
    "    for j, y in enumerate(y_values):\n",
    "        if (x, y) in cb.index and cb.loc[x, y]['count'] > 200:\n",
    "                results[i, j] = cb.loc[x, y]['mean']\n",
    "        else:\n",
    "            results[i, j] = np.nan"
   ]
  },
  {
   "cell_type": "code",
   "execution_count": null,
   "id": "690a31f7",
   "metadata": {},
   "outputs": [],
   "source": [
    "f, axarr = plt.subplots(1, 3, figsize=(9, 2.8))\n",
    "\n",
    "ax0, ax1, ax2 = axarr\n",
    "\n",
    "plot = df.loc[60, 65].loc[:80:2]\n",
    "ax0.errorbar(plot.index, plot['mean'], yerr=1.96 * plot.err, fmt='o', markersize=5, c='purple')\n",
    "\n",
    "plot = df.loc[60, 9].loc[:15000]\n",
    "ax1.errorbar(plot.index, plot['mean'], yerr=1.96 * plot.err, fmt='o', markersize=5, c='purple')    \n",
    "\n",
    "ax = axarr[2]\n",
    "cmap = matplotlib.colormaps['Purples']\n",
    "cmap = cmap.resampled(5)\n",
    "cmap.set_bad('0.9')\n",
    "\n",
    "axarr[0].set_xlabel('RHR [bpm]')\n",
    "axarr[1].set_xlabel('Activity [Steps]')\n",
    "\n",
    "axarr[0].set_ylabel('Average Wellbeing')\n",
    "axarr[1].set_ylabel('Average Wellbeing')\n",
    "\n",
    "axarr[0].set_ylim(2.9, 3.5)\n",
    "axarr[1].set_ylim(2.9, 3.5)\n",
    "\n",
    "c = ax.imshow(results.T, origin='lower', cmap=cmap, vmin=3, vmax=3.5, aspect=0.0027, extent=[45, 80, 1000, 15000])\n",
    "styling.hide_and_move_axis(ax)\n",
    "ax.set_xlabel('RHR [bpm]')\n",
    "ax.set_ylabel('Activity [steps]')\n",
    "\n",
    "ax = f.add_axes([1, 0.225, 0.01, 0.6])\n",
    "\n",
    "plt.colorbar(c, extend='both', cax=ax, label='Average Wellbeing')\n",
    "for ax in axarr:\n",
    "    styling.hide_and_move_axis(ax)\n",
    "\n",
    "plt.tight_layout()\n",
    "\n",
    "plt.savefig('../output/1.02c-average_wellbeing.jpg', dpi=400, bbox_inches='tight')"
   ]
  },
  {
   "cell_type": "markdown",
   "id": "0f80bcba",
   "metadata": {},
   "source": [
    "## Heart rate over steps"
   ]
  },
  {
   "cell_type": "code",
   "execution_count": null,
   "id": "32f32a12",
   "metadata": {},
   "outputs": [],
   "source": [
    "combined['rhr_over_steps'] = combined.value_binned_x / combined.value_y \n",
    "#combined.rhr_over_steps = np.round(combined.rhr_over_steps, 3) \n",
    "combined.rhr_over_steps = np.exp(np.round(np.log(combined.rhr_over_steps), 1))"
   ]
  },
  {
   "cell_type": "code",
   "execution_count": null,
   "id": "31f168a0",
   "metadata": {},
   "outputs": [],
   "source": [
    "cb = combined.groupby('rhr_over_steps').choice_id.agg(['mean', 'std', 'count'])\n",
    "cb['err'] = cb['std'] / np.sqrt(cb['count'])\n",
    "\n",
    "f, ax = plt.subplots(figsize = (5, 4))\n",
    "\n",
    "ax.errorbar(cb.index, cb['mean'], yerr=1.96 * cb['err'], fmt='o')\n",
    "\n",
    "ax.set_xlabel('RHR / Activity [bpm / steps]')\n",
    "ax.set_ylabel('Average Wellbeing')\n",
    "ax.semilogx()\n",
    "styling.hide_and_move_axis(ax)"
   ]
  },
  {
   "cell_type": "markdown",
   "id": "665bccc5",
   "metadata": {},
   "source": [
    "## Vital data per each choice"
   ]
  },
  {
   "cell_type": "code",
   "execution_count": null,
   "id": "5b369839",
   "metadata": {},
   "outputs": [],
   "source": [
    "data[['description', 'question']].drop_duplicates()"
   ]
  },
  {
   "cell_type": "code",
   "execution_count": null,
   "id": "31debcfc",
   "metadata": {},
   "outputs": [],
   "source": [
    "f, axarr = plt.subplots(1, 5, figsize=(20, 5), sharex=True, sharey=True)\n",
    "\n",
    "for i in range(1, 6):\n",
    "\n",
    "    df = data[(data.question == 60) & (data.choice_id == i)]\n",
    "    rhr = df[df.vitalid == 52]\n",
    "    steps = df[df.vitalid == 53]\n",
    "\n",
    "    df = pd.merge(rhr, steps, on=['user_id', 'date'])\n",
    "    axarr[i-1].hist2d(df['value_x'], df['value_y'], label=i, density=True, bins=20)\n",
    "    #axarr[i-1].axhline(df['value_y'].mean(), c='r')\n",
    "    #axarr[i-1].axvline(df['value_x'].mean(), c='r')\n",
    "\n",
    "    \n",
    "plt.legend()\n",
    "#plt.semilogy()\n",
    "    #plt.scatter(df['value_x'].mean(), df['value_y'].mean(), s=20, zorder=10)"
   ]
  }
 ],
 "metadata": {
  "kernelspec": {
   "display_name": "Python 3 (ipykernel)",
   "language": "python",
   "name": "python3"
  },
  "language_info": {
   "codemirror_mode": {
    "name": "ipython",
    "version": 3
   },
   "file_extension": ".py",
   "mimetype": "text/x-python",
   "name": "python",
   "nbconvert_exporter": "python",
   "pygments_lexer": "ipython3",
   "version": "3.11.1"
  }
 },
 "nbformat": 4,
 "nbformat_minor": 5
}

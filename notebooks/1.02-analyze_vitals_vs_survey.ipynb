{
 "cells": [
  {
   "cell_type": "code",
   "execution_count": null,
   "id": "652229f5",
   "metadata": {},
   "outputs": [],
   "source": [
    "import pandas as pd\n",
    "import datetime\n",
    "from matplotlib import pyplot as plt\n",
    "from textwrap import wrap\n",
    "import numpy as np\n",
    "import geopandas as gpd\n",
    "from datenspende_who5.styling import hide_and_move_axis\n",
    "from pathlib import Path\n",
    "import matplotlib"
   ]
  },
  {
   "cell_type": "code",
   "execution_count": null,
   "id": "ebc04a0e",
   "metadata": {},
   "outputs": [],
   "source": [
    "OUTPUT_FOLDER = '../output/{0}'.format(datetime.datetime.now())\n",
    "Path(OUTPUT_FOLDER).mkdir(parents=True, exist_ok=True)"
   ]
  },
  {
   "cell_type": "code",
   "execution_count": null,
   "id": "958e4040",
   "metadata": {},
   "outputs": [],
   "source": [
    "def load_wording():\n",
    "    \n",
    "    wording = pd.read_feather('../data/01_raw/who5_responses.feather')\n",
    "    wording.drop(columns=['user_id', 'created_at', 'choice_id'], inplace=True)\n",
    "    wording.drop_duplicates(inplace=True)\n",
    "    wording.replace({i: f'q{i}' for i in wording.question}, inplace=True)\n",
    "    wording = {entry[0]: entry[1] for i, entry in wording.iterrows()}\n",
    "    wording['total_wellbeing'] = 'Mittleres Wohlbefinden'\n",
    "    \n",
    "    wording = {\n",
    "        'q49': 'For the last four weeks I have been happy and in good spirits.',\n",
    "        'q50': 'In the last four weeks I have felt calm and relaxed.',\n",
    "        'q54': 'For the past four weeks, I have felt energetic and active.',\n",
    "        'q55': 'For the past four weeks, I have felt fresh and rested when I wake up.',\n",
    "        'q56': 'For the past four weeks, my daily life has been full of things that interest me.',\n",
    "        'total_wellbeing': 'Average wellbeing'\n",
    "    }\n",
    "    \n",
    "    return wording"
   ]
  },
  {
   "cell_type": "code",
   "execution_count": null,
   "id": "f71d0dd6",
   "metadata": {},
   "outputs": [],
   "source": [
    "data = pd.read_feather('../data/03_derived/input_data_users_surveys_rolling_vitals.feather')\n",
    "wording = load_wording()"
   ]
  },
  {
   "cell_type": "code",
   "execution_count": null,
   "id": "2258e0e6",
   "metadata": {},
   "outputs": [],
   "source": [
    "label = {'v9': 'Steps', \n",
    "         'v65': 'Resting heart rate', \n",
    "         'v43': 'Sleep duration', \n",
    "         'v52': 'Sleep onset', \n",
    "         'v53': 'Sleep offset', \n",
    "         'midsleep': 'Midsleep', \n",
    "         'v43difference': 'Difference in Sleep Duration WE-WD',\n",
    "         'v52difference': 'Difference in Sleep Onset  WE-WD',\n",
    "         'v53difference': 'Difference in Sleep Offset WE-WD',\n",
    "         'v9difference': 'Difference in steps WE-WD',\n",
    "         'v65difference': 'Difference in RHR WE-WD',\n",
    "         'social_jetlag': 'Social Jetlag',\n",
    "        }\n",
    "\n",
    "vital_key = 'v65difference'\n",
    "\n",
    "def plot_survey_response_per_vitals(vital_key):\n",
    "    f, axarr = plt.subplots(2, 3, sharex=True, figsize=(7,5))\n",
    "\n",
    "    bins = 40\n",
    "    question_keys = ['q49', 'q50', 'q54', 'q55', 'q56', 'total_wellbeing']\n",
    "    marker = 0\n",
    "\n",
    "    for question_key, ax in zip(question_keys, axarr.flatten()):\n",
    "        df = data[[vital_key, question_key]].dropna()\n",
    "\n",
    "        df['bins'] = pd.cut(df[vital_key], bins)\n",
    "        df.bins = df['bins'].apply(lambda x: x.left + 0.5 * (x.right - x.left))\n",
    "\n",
    "        df = df.groupby(['bins'])[question_key].agg(['mean', 'count', 'std'])\n",
    "        df['err'] = 1.96 * df['std'] / np.sqrt(df['count'])\n",
    "        df = df[df['count'] > 50]\n",
    "\n",
    "        ax.errorbar(df.index, df['mean'], yerr=df['err'], fmt='o', markersize=5)\n",
    "        ax.set_title('\\n'.join(wrap(wording[question_key], 30)), size=10)\n",
    "\n",
    "        if (vital_key == 'social_jetlag') or ('difference' in vital_key):\n",
    "            if marker != 'None':\n",
    "                ax.axvline(marker, c='k', ls=':')\n",
    "\n",
    "        hide_and_move_axis(ax)\n",
    "        \n",
    "    for ax in axarr[1]:\n",
    "        ax.set_xlabel(label[vital_key])\n",
    "\n",
    "    plt.tight_layout()\n",
    "    plt.savefig(f'{OUTPUT_FOLDER}/survey_response_per_{vital_key}.jpg', dpi=400)\n",
    "    \n",
    "    \n",
    "for vital_key in label.keys():\n",
    "    plot_survey_response_per_vitals(vital_key)"
   ]
  }
 ],
 "metadata": {
  "kernelspec": {
   "display_name": "Python 3 (ipykernel)",
   "language": "python",
   "name": "python3"
  },
  "language_info": {
   "codemirror_mode": {
    "name": "ipython",
    "version": 3
   },
   "file_extension": ".py",
   "mimetype": "text/x-python",
   "name": "python",
   "nbconvert_exporter": "python",
   "pygments_lexer": "ipython3",
   "version": "3.11.1"
  }
 },
 "nbformat": 4,
 "nbformat_minor": 5
}

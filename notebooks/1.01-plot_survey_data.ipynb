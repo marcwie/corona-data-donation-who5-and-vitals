{
 "cells": [
  {
   "cell_type": "code",
   "execution_count": null,
   "id": "540a1b15",
   "metadata": {},
   "outputs": [],
   "source": [
    "import pandas as pd\n",
    "import numpy as np\n",
    "from matplotlib import pyplot as plt\n",
    "import datetime\n",
    "from textwrap import wrap\n",
    "from datenspende_who5 import styling"
   ]
  },
  {
   "cell_type": "code",
   "execution_count": null,
   "id": "07ada07d",
   "metadata": {},
   "outputs": [],
   "source": [
    "def load_df():\n",
    "    \n",
    "    df = pd.read_feather('../data/01_raw/who5_responses.feather')\n",
    "    df['date'] = pd.to_datetime(answers.created_at, unit='ms').dt.date\n",
    "    return df\n",
    "\n",
    "def aggregate(df, question):\n",
    "    \n",
    "    df = df[df.question == question].groupby('date', as_index=False).agg({'choice_id': ['mean', 'std', 'count']})\n",
    "    df.rename(columns={'': 'date'}, inplace=True)\n",
    "    \n",
    "    df = df.droplevel(axis=1, level=0)\n",
    "    df['err'] = df['std'] / np.sqrt(df['count'])\n",
    "    \n",
    "    df.dropna(inplace=True)\n",
    "    df = df.sort_values(by='date')\n",
    "    df = df[df.date >= datetime.date(2021, 11, 1)]\n",
    "    \n",
    "    return df\n",
    "\n",
    "def average_wellbeing(df):\n",
    "    \n",
    "    total = df.groupby(['user_id', 'date'], as_index=False).agg({'choice_id': ['mean', 'count']})\n",
    "    total.drop(columns=['user_id'], level=0, inplace=True)\n",
    "    total = total.droplevel(axis=1, level=0)\n",
    "    total.rename(columns={'': 'date', 'mean': 'choice_id'}, inplace=True)\n",
    "    total = total[total['count'] == 5]\n",
    "    total.drop(columns=['count'], inplace=True)\n",
    "    total['question'] = 0\n",
    "    \n",
    "    return total\n",
    "\n",
    "def plot_average_and_individual_questions():\n",
    "    \n",
    "    answers = load_df()\n",
    "\n",
    "    f, axarr = plt.subplots(2, 3, sharex=True, sharey=True, figsize=(10, 6))\n",
    "\n",
    "    total = average_wellbeing(answers)\n",
    "    agg = aggregate(total, 0)\n",
    "\n",
    "    ax = axarr[0, 0]\n",
    "    ax.plot(agg.date, agg['mean'], lw=1)\n",
    "    ax.fill_between(agg.date, agg['mean']-1.96*agg['err'], agg['mean']+1.96*agg['err'], alpha=0.5)\n",
    "    ax.set_title('Mittleres Wohlbefinden')\n",
    "\n",
    "    for ax, question in zip(axarr.flatten()[1:], [49, 50, 54, 55, 56]):\n",
    "\n",
    "        df = aggregate(answers, question)\n",
    "        ax.plot(df.date, df['mean'], lw=1)\n",
    "        ax.fill_between(df.date, df['mean']-1.96*df['err'], df['mean']+1.96*df['err'], alpha=0.5)\n",
    "\n",
    "        ax.plot(agg.date, agg['mean'], lw=1, c='k', ls='-', alpha=0.5, label='Mittleres Wohlbefinden')\n",
    "\n",
    "        title = answers[answers.question == question].description.values[0]\n",
    "        title = '\\n'.join(wrap(title, 35))\n",
    "        ax.set_title(title)\n",
    "\n",
    "    for ax in axarr.flatten():\n",
    "        styling.hide_and_move_axis(ax)\n",
    "\n",
    "    for ax in axarr[1]:\n",
    "        for label in ax.get_xticklabels():\n",
    "            label.set_ha(\"right\")\n",
    "            label.set_rotation(45)\n",
    "\n",
    "    axarr[0, 1].legend()\n",
    "    plt.tight_layout()\n",
    "    \n",
    "    plt.savefig('../output/1.01-average_survey_responses.pdf')"
   ]
  },
  {
   "cell_type": "code",
   "execution_count": null,
   "id": "915315a8",
   "metadata": {},
   "outputs": [],
   "source": [
    "plot_average_and_individual_questions()"
   ]
  }
 ],
 "metadata": {
  "kernelspec": {
   "display_name": "Python 3 (ipykernel)",
   "language": "python",
   "name": "python3"
  },
  "language_info": {
   "codemirror_mode": {
    "name": "ipython",
    "version": 3
   },
   "file_extension": ".py",
   "mimetype": "text/x-python",
   "name": "python",
   "nbconvert_exporter": "python",
   "pygments_lexer": "ipython3",
   "version": "3.11.1"
  }
 },
 "nbformat": 4,
 "nbformat_minor": 5
}

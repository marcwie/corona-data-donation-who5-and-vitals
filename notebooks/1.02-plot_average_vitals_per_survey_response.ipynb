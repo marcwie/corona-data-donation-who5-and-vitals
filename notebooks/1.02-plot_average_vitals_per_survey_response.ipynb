{
 "cells": [
  {
   "cell_type": "code",
   "execution_count": null,
   "id": "e22eb205",
   "metadata": {},
   "outputs": [],
   "source": [
    "#TODO: Deal with Apple users!"
   ]
  },
  {
   "cell_type": "code",
   "execution_count": null,
   "id": "da6f6d3f",
   "metadata": {},
   "outputs": [],
   "source": [
    "import pandas as pd\n",
    "from matplotlib import pyplot as plt\n",
    "from datetime import datetime, date\n",
    "import numpy as np\n",
    "from datenspende_who5 import styling\n",
    "from textwrap import wrap"
   ]
  },
  {
   "cell_type": "code",
   "execution_count": null,
   "id": "a9e7172f",
   "metadata": {},
   "outputs": [],
   "source": [
    "def load_df():\n",
    "    \n",
    "    df = pd.read_feather('../data/01_raw/who5_responses.feather')\n",
    "    df['date'] = pd.to_datetime(df.created_at, unit='ms').dt.date\n",
    "    return df\n",
    "\n",
    "def load_vitals():\n",
    "    \n",
    "    df = pd.read_feather('../data/01_raw/vitals.feather')\n",
    "    return df\n",
    "\n",
    "def preprocess_vitals(df):\n",
    "    \n",
    "    # Compute sleep onset and offset\n",
    "    mask = df.vitalid.isin([52, 53])\n",
    "    values = (pd.to_datetime(df[mask].value, unit='s') - df[mask].date) / pd.Timedelta(hours=1)\n",
    "    df.loc[mask, 'value'] = values\n",
    "    \n",
    "    # Remove implausible values for onset and offset\n",
    "    invalid = (df.vitalid == 52) & (~df.value.between(-12, 12))\n",
    "    df = df[~invalid]\n",
    "\n",
    "    invalid = (df.vitalid == 53) & (~df.value.between(0, 18))\n",
    "    df = df[~invalid]\n",
    "    \n",
    "    # Correct for DST\n",
    "    dst_2021 = df.vitalid.isin([52, 53]) & (df.date < datetime(2021, 10, 31))\n",
    "    dst_2022 = df.vitalid.isin([52, 53]) & (df.date > datetime(2022, 3, 27)) & (df.date < datetime(2022, 10, 30))\n",
    "\n",
    "    df.loc[dst_2021 | dst_2022, 'value'] += 1\n",
    "    \n",
    "    return df\n",
    "\n",
    "\n",
    "def compute_rolling_vitals(df):\n",
    "    \n",
    "    df = df.set_index('date').groupby(['userid', 'vitalid']).rolling('28D', min_periods=7).mean().dropna()\n",
    "    df.reset_index(inplace=True)\n",
    "    \n",
    "    return df\n",
    "\n",
    "def get_data_for_analysis():\n",
    "    \n",
    "    answers = load_df()\n",
    "    \n",
    "    vitals = load_vitals()\n",
    "    vitals = preprocess_vitals(vitals)\n",
    "    vitals = compute_rolling_vitals(vitals)\n",
    "    \n",
    "    vitals['date'] = pd.to_datetime(vitals['date']).dt.date\n",
    "    df = pd.merge(answers, vitals, left_on=['user_id', 'date'], right_on=['userid', 'date'])\n",
    "    \n",
    "    return df"
   ]
  },
  {
   "cell_type": "code",
   "execution_count": null,
   "id": "e095fad6",
   "metadata": {},
   "outputs": [],
   "source": [
    "data = get_data_for_analysis()"
   ]
  },
  {
   "cell_type": "markdown",
   "id": "4f2cbbc7",
   "metadata": {},
   "source": [
    "# Average vital data for each survey response"
   ]
  },
  {
   "cell_type": "code",
   "execution_count": null,
   "id": "720c3786",
   "metadata": {},
   "outputs": [],
   "source": [
    "df = data.groupby(['question', 'vitalid', 'choice_id']).value.agg(['mean', 'std', 'count'])\n",
    "df['err'] = df['std'] / np.sqrt(df['count'])"
   ]
  },
  {
   "cell_type": "code",
   "execution_count": null,
   "id": "bfd7892b",
   "metadata": {},
   "outputs": [],
   "source": [
    "ylabel = {65: 'Ruhepuls', 9: 'Aktivität', 43: 'Schlafdauer', 52: 'Einschlafzeit', 53: 'Aufwachzeit'}\n",
    "\n",
    "f, axarr = plt.subplots(5, 5, figsize=(10, 7), sharey='row', sharex=True)\n",
    "\n",
    "for row_id, question in enumerate([49, 50, 54, 55, 56]):\n",
    "    \n",
    "    title = data[data.question == question].description.values[0]\n",
    "    title = '\\n'.join(wrap(title, 30))\n",
    "    axarr[0, row_id].set_title(title, size=8)\n",
    "    \n",
    "    for col_id, vital in enumerate([65, 9, 43, 52, 53]):\n",
    "        plot_data = df.loc[question, vital]\n",
    "        axarr[col_id, row_id].errorbar(plot_data.index, plot_data['mean'], yerr=plot_data['err'], fmt='o', markersize=4)\n",
    "        \n",
    "        axarr[col_id, 0].set_ylabel(ylabel[vital]) \n",
    "\n",
    "for ax in axarr.flatten():\n",
    "    styling.hide_and_move_axis(ax)\n",
    "    ax.set_xticks([1, 2, 3, 4, 5])\n",
    "    \n",
    "plt.tight_layout()\n",
    "plt.savefig('../output/1.02a-average_vital_per_survey_response.pdf')"
   ]
  },
  {
   "cell_type": "markdown",
   "id": "c0c0e7e0",
   "metadata": {},
   "source": [
    "# Average survey response for given vital data"
   ]
  },
  {
   "cell_type": "code",
   "execution_count": null,
   "id": "f2320048",
   "metadata": {},
   "outputs": [],
   "source": [
    "df = data.copy()\n",
    "\n",
    "df.loc[df.vitalid == 9, 'value'] = np.round(data[data.vitalid == 9].value, -3) \n",
    "df.loc[df.vitalid == 65, 'value'] = np.round(data[data.vitalid == 65].value, 0)\n",
    "df.loc[df.vitalid == 43, 'value'] = np.round(data[data.vitalid == 43].value / 15, 0) * 15\n",
    "df.loc[df.vitalid == 52, 'value'] = np.round(data[data.vitalid == 52].value / 2, 1) * 2\n",
    "df.loc[df.vitalid == 53, 'value'] = np.round(data[data.vitalid == 53].value / 2, 1) * 2"
   ]
  },
  {
   "cell_type": "code",
   "execution_count": null,
   "id": "acd024b5",
   "metadata": {},
   "outputs": [],
   "source": [
    "df.loc[(df.vitalid == 65) & ((df.value > 90) | (df.value < 45)), 'value'] = np.nan\n",
    "df.loc[(df.vitalid == 9) & ((df.value > 20000) | (df.value < 1000)), 'value'] = np.nan\n",
    "df.loc[(df.vitalid == 43) & ((df.value > 600) | (df.value < 120)), 'value'] = np.nan\n",
    "df.loc[(df.vitalid == 52) & ((df.value > 2) | (df.value < -3)), 'value'] = np.nan\n",
    "df.loc[(df.vitalid == 53) & ((df.value < 4.5) | (df.value > 10)), 'value'] = np.nan\n",
    "\n",
    "df.dropna(inplace=True)"
   ]
  },
  {
   "cell_type": "code",
   "execution_count": null,
   "id": "6c789024",
   "metadata": {},
   "outputs": [],
   "source": [
    "df = df.groupby(['question', 'vitalid', 'value']).choice_id.agg(['mean', 'std', 'count'])\n",
    "df['err'] = df['std'] / np.sqrt(df['count'])\n",
    "df.dropna(inplace=True)"
   ]
  },
  {
   "cell_type": "code",
   "execution_count": null,
   "id": "763317ec",
   "metadata": {},
   "outputs": [],
   "source": [
    "xlabel = {65: 'Ruhepuls', 9: 'Aktivität', 43: 'Schlafdauer', 52: 'Einschlafzeit', 53: 'Aufwachzeit'}\n",
    "\n",
    "f, axarr = plt.subplots(5, 5, figsize=(10, 7), sharex='col')\n",
    "\n",
    "for row_id, question in enumerate([49, 50, 54, 55, 56]):\n",
    "    \n",
    "    title = data[data.question == question].description.values[0]\n",
    "    title = '\\n'.join(wrap(title, 22))\n",
    "    axarr[row_id, 0].set_ylabel(title, size=8)\n",
    "    \n",
    "    for col_id, vital in enumerate([65, 9, 43, 52, 53]):\n",
    "        plot_data = df.loc[question, vital]\n",
    "        axarr[row_id, col_id].errorbar(plot_data.index, plot_data['mean'], yerr=plot_data['err'], fmt='o', markersize=4)\n",
    "        \n",
    "        axarr[-1, col_id].set_xlabel(xlabel[vital]) \n",
    "\n",
    "for ax in axarr.flatten():\n",
    "    styling.hide_and_move_axis(ax)\n",
    "    \n",
    "plt.tight_layout()\n",
    "plt.savefig('../output/1.02b-average_survey_response_per_vital.pdf')"
   ]
  }
 ],
 "metadata": {
  "kernelspec": {
   "display_name": "Python 3 (ipykernel)",
   "language": "python",
   "name": "python3"
  },
  "language_info": {
   "codemirror_mode": {
    "name": "ipython",
    "version": 3
   },
   "file_extension": ".py",
   "mimetype": "text/x-python",
   "name": "python",
   "nbconvert_exporter": "python",
   "pygments_lexer": "ipython3",
   "version": "3.11.1"
  }
 },
 "nbformat": 4,
 "nbformat_minor": 5
}

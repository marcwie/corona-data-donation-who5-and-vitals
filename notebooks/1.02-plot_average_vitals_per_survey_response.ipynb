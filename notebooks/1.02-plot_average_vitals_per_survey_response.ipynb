{
 "cells": [
  {
   "cell_type": "code",
   "execution_count": 1,
   "id": "e22eb205",
   "metadata": {},
   "outputs": [],
   "source": [
    "# TODO: \n",
    "# - Deal with Apple users!\n",
    "# - Deal with multiple devices per user!"
   ]
  },
  {
   "cell_type": "code",
   "execution_count": 2,
   "id": "da6f6d3f",
   "metadata": {},
   "outputs": [],
   "source": [
    "import pandas as pd\n",
    "from matplotlib import pyplot as plt\n",
    "import numpy as np\n",
    "from datenspende_who5 import styling\n",
    "from textwrap import wrap"
   ]
  },
  {
   "cell_type": "code",
   "execution_count": 3,
   "id": "44d86a7a",
   "metadata": {},
   "outputs": [],
   "source": [
    "LABEL = {65: 'Ruhepuls', 9: 'Aktivität', 43: 'Schlafdauer', 52: 'Einschlafzeit', 53: 'Aufwachzeit'}    "
   ]
  },
  {
   "cell_type": "code",
   "execution_count": 4,
   "id": "a9e7172f",
   "metadata": {},
   "outputs": [],
   "source": [
    "def bin_vitals(df):\n",
    "    \n",
    "    df = pd.read_feather('../data/02_processed/vitals.feather')\n",
    "\n",
    "    df.loc[df.vitalid == 9, 'value_binned'] = np.round(df[df.vitalid == 9].value, -3) \n",
    "    df.loc[df.vitalid == 65, 'value_binned'] = np.round(df[df.vitalid == 65].value, 0)\n",
    "    df.loc[df.vitalid == 43, 'value_binned'] = np.round(df[df.vitalid == 43].value / 15, 0) * 15\n",
    "    df.loc[df.vitalid == 52, 'value_binned'] = np.round(df[df.vitalid == 52].value / 2, 1) * 2\n",
    "    df.loc[df.vitalid == 53, 'value_binned'] = np.round(df[df.vitalid == 53].value / 2, 1) * 2\n",
    "\n",
    "    df.loc[(df.vitalid == 65) & ((df.value_binned > 90) | (df.value_binned < 45)), 'value'] = np.nan\n",
    "    df.loc[(df.vitalid == 9) & ((df.value_binned > 20000) | (df.value_binned < 1000)), 'value'] = np.nan\n",
    "    df.loc[(df.vitalid == 43) & ((df.value_binned > 600) | (df.value_binned < 120)), 'value'] = np.nan\n",
    "    df.loc[(df.vitalid == 52) & ((df.value_binned > 2) | (df.value_binned < -3)), 'value'] = np.nan\n",
    "    df.loc[(df.vitalid == 53) & ((df.value_binned < 4.5) | (df.value_binned > 10)), 'value'] = np.nan\n",
    "\n",
    "    df.dropna(inplace=True)\n",
    "\n",
    "    return df\n",
    "\n",
    "\n",
    "def load():\n",
    "    \n",
    "    answers = pd.read_feather('../data/02_processed/who5_responses.feather')\n",
    "    vitals = pd.read_feather('../data/02_processed/vitals.feather')\n",
    "    vitals = bin_vitals(vitals)\n",
    "    \n",
    "    df = pd.merge(answers, vitals, on=['user_id', 'date'])\n",
    "    \n",
    "    return df\n",
    "\n",
    "\n",
    "def average_vitals_per_survey_response(df):\n",
    "\n",
    "    df = df.groupby(['question', 'vitalid', 'choice_id']).value.agg(['mean', 'std', 'count'])\n",
    "    df['err'] = df['std'] / np.sqrt(df['count'])\n",
    "    \n",
    "    return df\n",
    "\n",
    "\n",
    "def average_survey_response_per_vital(df):\n",
    "\n",
    "    df = df.groupby(['question', 'vitalid', 'value_binned']).choice_id.agg(['mean', 'std', 'count'])\n",
    "    df['err'] = df['std'] / np.sqrt(df['count'])\n",
    "    df.dropna(inplace=True)\n",
    "    \n",
    "    return df\n",
    "\n",
    "\n",
    "def plot_average_vitals_per_survey_response(df, outfile='../output/1.02a-average_vital_per_survey_response.pdf'):\n",
    "    \n",
    "    df = average_vitals_per_survey_response(df)\n",
    "    \n",
    "    f, axarr = plt.subplots(5, 5, figsize=(10, 7), sharey='row', sharex=True)\n",
    "\n",
    "    for row_id, question in enumerate([49, 50, 54, 55, 56]):\n",
    "\n",
    "        axarr[0, row_id].set_title(get_title(question, 30), size=8)\n",
    "\n",
    "        for col_id, vital in enumerate([65, 9, 43, 52, 53]):\n",
    "            plot_data = df.loc[question, vital]\n",
    "            axarr[col_id, row_id].errorbar(plot_data.index, plot_data['mean'], yerr=plot_data['err'], fmt='o', markersize=4)\n",
    "            axarr[col_id, 0].set_ylabel(LABEL[vital]) \n",
    "\n",
    "    for ax in axarr.flatten():\n",
    "        styling.hide_and_move_axis(ax)\n",
    "        ax.set_xticks([1, 2, 3, 4, 5])\n",
    "\n",
    "    plt.tight_layout()\n",
    "    plt.savefig(outfile)\n",
    "    \n",
    "\n",
    "def get_title(question, wrap):\n",
    "    \n",
    "    title = data[data.question == question].description.values[0]\n",
    "    title = '\\n'.join(wrap(title, wrap))\n",
    "\n",
    "    return title\n",
    "    \n",
    "def plot_average_survey_response_per_vital(df, outfile='../output/1.02b-average_survey_response_per_vital.pdf'):\n",
    "    \n",
    "    df = average_survey_response_per_vital(df)\n",
    "    \n",
    "    f, axarr = plt.subplots(5, 5, figsize=(10, 7), sharex='col')\n",
    "\n",
    "    for row_id, question in enumerate([49, 50, 54, 55, 56]):\n",
    "\n",
    "        axarr[row_id, 0].set_ylabel(get_title(question, 22), size=8)\n",
    "        \n",
    "        for col_id, vital in enumerate([65, 9, 43, 52, 53]):\n",
    "            plot_data = df.loc[question, vital]\n",
    "            axarr[row_id, col_id].errorbar(plot_data.index, plot_data['mean'], yerr=plot_data['err'], fmt='o', markersize=4)\n",
    "            axarr[-1, col_id].set_xlabel(LABEL[vital]) \n",
    "\n",
    "    for ax in axarr.flatten():\n",
    "        styling.hide_and_move_axis(ax)\n",
    "\n",
    "    plt.tight_layout()\n",
    "    plt.savefig(outfile)\n",
    "    "
   ]
  },
  {
   "cell_type": "code",
   "execution_count": 5,
   "id": "e095fad6",
   "metadata": {},
   "outputs": [],
   "source": [
    "data = load()"
   ]
  },
  {
   "cell_type": "markdown",
   "id": "4f2cbbc7",
   "metadata": {},
   "source": [
    "# Average vital data for each survey response"
   ]
  },
  {
   "cell_type": "code",
   "execution_count": null,
   "id": "bfd7892b",
   "metadata": {},
   "outputs": [],
   "source": [
    "plot_average_vitals_per_survey_response(data)"
   ]
  },
  {
   "cell_type": "markdown",
   "id": "c0c0e7e0",
   "metadata": {},
   "source": [
    "# Average survey response for given vital data"
   ]
  },
  {
   "cell_type": "code",
   "execution_count": null,
   "id": "6c789024",
   "metadata": {},
   "outputs": [],
   "source": [
    "plot_average_survey_response_per_vital(data)"
   ]
  },
  {
   "cell_type": "markdown",
   "id": "f7e11f92",
   "metadata": {},
   "source": [
    "# Sandbox"
   ]
  },
  {
   "cell_type": "code",
   "execution_count": 74,
   "id": "de200512",
   "metadata": {},
   "outputs": [],
   "source": [
    "df = average_survey_response_per_vital(data)"
   ]
  },
  {
   "cell_type": "code",
   "execution_count": 252,
   "id": "9e58d2f7",
   "metadata": {},
   "outputs": [],
   "source": [
    "rhr = data[data.vitalid == 65]\n",
    "steps = data[data.vitalid == 9]\n",
    "\n",
    "combined = pd.merge(rhr, steps, on=['user_id', 'date', 'question', 'choice_id', 'description'])\n",
    "\n",
    "cb = combined.groupby(['value_binned_x', 'value_binned_y']).choice_id.agg(['mean', 'std', 'count'])\n",
    "\n",
    "x_values = np.arange(45, 80, 1)\n",
    "y_values = np.arange(1000, 15001, 1000)\n",
    "\n",
    "results = np.zeros((len(x_values), len(y_values)))\n",
    "\n",
    "for i, x in enumerate(x_values):\n",
    "    for j, y in enumerate(y_values):\n",
    "        if (x, y) in cb.index and cb.loc[x, y]['count'] > 200:\n",
    "                results[i, j] = cb.loc[x, y]['mean']\n",
    "        else:\n",
    "            results[i, j] = np.nan"
   ]
  },
  {
   "cell_type": "code",
   "execution_count": 372,
   "id": "690a31f7",
   "metadata": {},
   "outputs": [
    {
     "name": "stderr",
     "output_type": "stream",
     "text": [
      "/var/folders/cm/6ltwrgb55_l43f5w6rzn62zc0000gn/T/ipykernel_25074/485791706.py:36: UserWarning: This figure includes Axes that are not compatible with tight_layout, so results might be incorrect.\n",
      "  plt.tight_layout()\n"
     ]
    },
    {
     "data": {
      "image/png": "[encoded data removed]",
      "text/plain": [
       "<Figure size 900x280 with 4 Axes>"
      ]
     },
     "metadata": {},
     "output_type": "display_data"
    }
   ],
   "source": [
    "f, axarr = plt.subplots(1, 3, figsize=(9, 2.8))\n",
    "\n",
    "ax0, ax1, ax2 = axarr\n",
    "\n",
    "plot = df.loc[60, 65].loc[:80:2]\n",
    "ax0.errorbar(plot.index, plot['mean'], yerr=1.96 * plot.err, fmt='o', markersize=5, c='purple')\n",
    "\n",
    "plot = df.loc[60, 9].loc[:15000]\n",
    "ax1.errorbar(plot.index, plot['mean'], yerr=1.96 * plot.err, fmt='o', markersize=5, c='purple')    \n",
    "\n",
    "ax = axarr[2]\n",
    "cmap = matplotlib.colormaps['Purples']\n",
    "cmap = cmap.resampled(5)\n",
    "cmap.set_bad('0.9')\n",
    "\n",
    "axarr[0].set_xlabel('RHR [bpm]')\n",
    "axarr[1].set_xlabel('Activity [Steps]')\n",
    "\n",
    "axarr[0].set_ylabel('Average Wellbeing')\n",
    "axarr[1].set_ylabel('Average Wellbeing')\n",
    "\n",
    "axarr[0].set_ylim(2.9, 3.5)\n",
    "axarr[1].set_ylim(2.9, 3.5)\n",
    "\n",
    "c = ax.imshow(results.T, origin='lower', cmap=cmap, vmin=3, vmax=3.5, aspect=0.0027, extent=[45, 80, 1000, 15000])\n",
    "styling.hide_and_move_axis(ax)\n",
    "ax.set_xlabel('RHR [bpm]')\n",
    "ax.set_ylabel('Activity [steps]')\n",
    "\n",
    "ax = f.add_axes([1, 0.225, 0.01, 0.6])\n",
    "\n",
    "plt.colorbar(c, extend='both', cax=ax, label='Average Wellbeing')\n",
    "for ax in axarr:\n",
    "    styling.hide_and_move_axis(ax)\n",
    "\n",
    "plt.tight_layout()\n",
    "\n",
    "plt.savefig('../output/1.02c-average_wellbeing.jpg', dpi=400, bbox_inches='tight')"
   ]
  },
  {
   "cell_type": "code",
   "execution_count": null,
   "id": "32f32a12",
   "metadata": {},
   "outputs": [],
   "source": []
  }
 ],
 "metadata": {
  "kernelspec": {
   "display_name": "Python 3 (ipykernel)",
   "language": "python",
   "name": "python3"
  },
  "language_info": {
   "codemirror_mode": {
    "name": "ipython",
    "version": 3
   },
   "file_extension": ".py",
   "mimetype": "text/x-python",
   "name": "python",
   "nbconvert_exporter": "python",
   "pygments_lexer": "ipython3",
   "version": "3.11.1"
  }
 },
 "nbformat": 4,
 "nbformat_minor": 5
}

{
 "cells": [
  {
   "cell_type": "code",
   "execution_count": null,
   "id": "e22eb205",
   "metadata": {},
   "outputs": [],
   "source": [
    "# TODO: \n",
    "# - Deal with Apple users!\n",
    "# - Deal with multiple devices per user!"
   ]
  },
  {
   "cell_type": "code",
   "execution_count": null,
   "id": "da6f6d3f",
   "metadata": {},
   "outputs": [],
   "source": [
    "import pandas as pd\n",
    "from matplotlib import pyplot as plt\n",
    "import numpy as np\n",
    "from datenspende_who5 import styling\n",
    "from textwrap import wrap"
   ]
  },
  {
   "cell_type": "code",
   "execution_count": null,
   "id": "44d86a7a",
   "metadata": {},
   "outputs": [],
   "source": [
    "LABEL = {65: 'Ruhepuls', 9: 'Aktivität', 43: 'Schlafdauer', 52: 'Einschlafzeit', 53: 'Aufwachzeit'}    "
   ]
  },
  {
   "cell_type": "code",
   "execution_count": null,
   "id": "a9e7172f",
   "metadata": {},
   "outputs": [],
   "source": [
    "def bin_vitals(df):\n",
    "    \n",
    "    df = pd.read_feather('../data/02_processed/vitals.feather')\n",
    "\n",
    "    df.loc[df.vitalid == 9, 'value_binned'] = np.round(df[df.vitalid == 9].value, -3) \n",
    "    df.loc[df.vitalid == 65, 'value_binned'] = np.round(df[df.vitalid == 65].value, 0)\n",
    "    df.loc[df.vitalid == 43, 'value_binned'] = np.round(df[df.vitalid == 43].value / 15, 0) * 15\n",
    "    df.loc[df.vitalid == 52, 'value_binned'] = np.round(df[df.vitalid == 52].value / 2, 1) * 2\n",
    "    df.loc[df.vitalid == 53, 'value_binned'] = np.round(df[df.vitalid == 53].value / 2, 1) * 2\n",
    "\n",
    "    df.loc[(df.vitalid == 65) & ((df.value_binned > 90) | (df.value_binned < 45)), 'value'] = np.nan\n",
    "    df.loc[(df.vitalid == 9) & ((df.value_binned > 20000) | (df.value_binned < 1000)), 'value'] = np.nan\n",
    "    df.loc[(df.vitalid == 43) & ((df.value_binned > 600) | (df.value_binned < 120)), 'value'] = np.nan\n",
    "    df.loc[(df.vitalid == 52) & ((df.value_binned > 2) | (df.value_binned < -3)), 'value'] = np.nan\n",
    "    df.loc[(df.vitalid == 53) & ((df.value_binned < 4.5) | (df.value_binned > 10)), 'value'] = np.nan\n",
    "\n",
    "    df.dropna(inplace=True)\n",
    "\n",
    "    return df\n",
    "\n",
    "\n",
    "def load():\n",
    "    \n",
    "    answers = pd.read_feather('../data/02_processed/who5_responses.feather')\n",
    "    vitals = pd.read_feather('../data/02_processed/vitals.feather')\n",
    "    vitals = bin_vitals(vitals)\n",
    "    \n",
    "    df = pd.merge(answers, vitals, on=['user_id', 'date'])\n",
    "    \n",
    "    return df\n",
    "\n",
    "\n",
    "def average_vitals_per_survey_response(df):\n",
    "\n",
    "    df = df.groupby(['question', 'vitalid', 'choice_id']).value.agg(['mean', 'std', 'count'])\n",
    "    df['err'] = df['std'] / np.sqrt(df['count'])\n",
    "    \n",
    "    return df\n",
    "\n",
    "\n",
    "def average_survey_response_per_vital(df):\n",
    "\n",
    "    df = df.groupby(['question', 'vitalid', 'value_binned']).choice_id.agg(['mean', 'std', 'count'])\n",
    "    df['err'] = df['std'] / np.sqrt(df['count'])\n",
    "    df.dropna(inplace=True)\n",
    "    \n",
    "    return df\n",
    "\n",
    "\n",
    "def plot_average_vitals_per_survey_response(df, outfile='../output/1.02a-average_vital_per_survey_response.pdf'):\n",
    "    \n",
    "    df = average_vitals_per_survey_response(df)\n",
    "    \n",
    "    f, axarr = plt.subplots(5, 5, figsize=(10, 7), sharey='row', sharex=True)\n",
    "\n",
    "    for row_id, question in enumerate([49, 50, 54, 55, 56]):\n",
    "\n",
    "        axarr[0, row_id].set_title(get_title(question, 30), size=8)\n",
    "\n",
    "        for col_id, vital in enumerate([65, 9, 43, 52, 53]):\n",
    "            plot_data = df.loc[question, vital]\n",
    "            axarr[col_id, row_id].errorbar(plot_data.index, plot_data['mean'], yerr=plot_data['err'], fmt='o', markersize=4)\n",
    "            axarr[col_id, 0].set_ylabel(LABEL[vital]) \n",
    "\n",
    "    for ax in axarr.flatten():\n",
    "        styling.hide_and_move_axis(ax)\n",
    "        ax.set_xticks([1, 2, 3, 4, 5])\n",
    "\n",
    "    plt.tight_layout()\n",
    "    plt.savefig(outfile)\n",
    "    \n",
    "\n",
    "def get_title(question, wrap):\n",
    "    \n",
    "    title = data[data.question == question].description.values[0]\n",
    "    title = '\\n'.join(wrap(title, wrap))\n",
    "\n",
    "    return title\n",
    "    \n",
    "def plot_average_survey_response_per_vital(df, outfile='../output/1.02b-average_survey_response_per_vital.pdf'):\n",
    "    \n",
    "    df = average_survey_response_per_vital(df)\n",
    "    \n",
    "    f, axarr = plt.subplots(5, 5, figsize=(10, 7), sharex='col')\n",
    "\n",
    "    for row_id, question in enumerate([49, 50, 54, 55, 56]):\n",
    "\n",
    "        axarr[row_id, 0].set_ylabel(get_title(question, 22), size=8)\n",
    "        \n",
    "        for col_id, vital in enumerate([65, 9, 43, 52, 53]):\n",
    "            plot_data = df.loc[question, vital]\n",
    "            axarr[row_id, col_id].errorbar(plot_data.index, plot_data['mean'], yerr=plot_data['err'], fmt='o', markersize=4)\n",
    "            axarr[-1, col_id].set_xlabel(LABEL[vital]) \n",
    "\n",
    "    for ax in axarr.flatten():\n",
    "        styling.hide_and_move_axis(ax)\n",
    "\n",
    "    plt.tight_layout()\n",
    "    plt.savefig(outfile)\n",
    "    "
   ]
  },
  {
   "cell_type": "code",
   "execution_count": null,
   "id": "e095fad6",
   "metadata": {},
   "outputs": [],
   "source": [
    "data = load()"
   ]
  },
  {
   "cell_type": "markdown",
   "id": "4f2cbbc7",
   "metadata": {},
   "source": [
    "# Average vital data for each survey response"
   ]
  },
  {
   "cell_type": "code",
   "execution_count": null,
   "id": "bfd7892b",
   "metadata": {},
   "outputs": [],
   "source": [
    "plot_average_vitals_per_survey_response(data)"
   ]
  },
  {
   "cell_type": "markdown",
   "id": "c0c0e7e0",
   "metadata": {},
   "source": [
    "# Average survey response for given vital data"
   ]
  },
  {
   "cell_type": "code",
   "execution_count": null,
   "id": "6c789024",
   "metadata": {},
   "outputs": [],
   "source": [
    "plot_average_survey_response_per_vital(data)"
   ]
  }
 ],
 "metadata": {
  "kernelspec": {
   "display_name": "Python 3 (ipykernel)",
   "language": "python",
   "name": "python3"
  },
  "language_info": {
   "codemirror_mode": {
    "name": "ipython",
    "version": 3
   },
   "file_extension": ".py",
   "mimetype": "text/x-python",
   "name": "python",
   "nbconvert_exporter": "python",
   "pygments_lexer": "ipython3",
   "version": "3.11.1"
  }
 },
 "nbformat": 4,
 "nbformat_minor": 5
}

{
 "cells": [
  {
   "cell_type": "code",
   "execution_count": null,
   "id": "320d2912-e065-45ae-bf1f-42bf2524234a",
   "metadata": {},
   "outputs": [],
   "source": [
    "%load_ext autoreload\n",
    "%autoreload 2\n",
    "\n",
    "import hydra\n",
    "import os\n",
    "import datetime\n",
    "from pathlib import Path\n",
    "\n",
    "# Initialize hydra and move to the root of the repository\n",
    "try:\n",
    "    hydra.initialize(version_base=None, config_path=\"../config/\")\n",
    "    CONFIG = hydra.compose(config_name=\"main.yaml\")\n",
    "    print('Initializing hydra')\n",
    "except:\n",
    "    print('Hydra already initalized!')\n",
    "else:\n",
    "    os.chdir('..')\n",
    "    # Create an output folder in the root of the repository\n",
    "    OUTPUT_FOLDER = Path('output/{0}'.format(datetime.datetime.now()))\n",
    "    Path(OUTPUT_FOLDER).mkdir(parents=True, exist_ok=True)"
   ]
  },
  {
   "cell_type": "code",
   "execution_count": null,
   "id": "a38aa316-1586-4f0d-9995-32aabee1b057",
   "metadata": {},
   "outputs": [],
   "source": [
    "import pandas as pd\n",
    "import statsmodels.formula.api as smf\n",
    "import statsmodels.api as sm"
   ]
  },
  {
   "cell_type": "code",
   "execution_count": null,
   "id": "82a320af-a5b2-4289-a1d8-100fb5f00a2e",
   "metadata": {},
   "outputs": [],
   "source": [
    "def aic(model):\n",
    "    return -2 * mdf.llf + 2 * mdf.df_modelwc\n",
    "\n",
    "def bic(model):\n",
    "    return -2 * model.llf + np.log(model.nobs) * model.df_modelwc\n",
    "\n",
    "def fit(equation, data):\n",
    "    md = smf.mixedlm(equation, data, groups=data['user_device'])\n",
    "    mdf = md.fit()\n",
    "    print(mdf.summary())\n",
    "    print('AIC:', aic(mdf))\n",
    "    print('BIC:', bic(mdf))"
   ]
  },
  {
   "cell_type": "code",
   "execution_count": null,
   "id": "75a3e301-5b4c-4ed0-901b-4f0e279de927",
   "metadata": {},
   "outputs": [],
   "source": [
    "# Load data\n",
    "df = pd.read_feather(Path(CONFIG.data.processed) / CONFIG.data.filenames.merged_data)\n",
    "df['user_device'] = df.user_id.astype(str) + \"_\" + df.deviceid.astype(str)\n",
    "df['v9'] /= 1000"
   ]
  },
  {
   "cell_type": "code",
   "execution_count": null,
   "id": "3d328f34-f07c-4e54-a3c9-e0a634a62bfa",
   "metadata": {},
   "outputs": [],
   "source": [
    "model_data1 = df[['user_device', 'total_wellbeing', 'v9', 'v65', 'salutation', 'age_group']].dropna()\n",
    "model_data2 = df[['user_device', 'total_wellbeing', 'v9', 'v65', 'midsleep', 'salutation', 'age_group']].dropna()\n",
    "model_data3 = df[['user_device', 'total_wellbeing', 'v9', 'v65', 'midsleep', 'v43', 'salutation', 'age_group']].dropna()\n",
    "model_data3['v43_squared'] = model_data3['v43'] ** 0.5\n",
    "model_data3['early_midsleep'] = model_data['midsleep'] < 4"
   ]
  },
  {
   "cell_type": "code",
   "execution_count": null,
   "id": "56f8ccea-9f5f-452d-931e-73da7c77cf54",
   "metadata": {},
   "outputs": [],
   "source": [
    "fit('total_wellbeing ~ C(age_group) + v9 + v65 + C(salutation)', model_data1)"
   ]
  },
  {
   "cell_type": "code",
   "execution_count": null,
   "id": "f083b9e0-dbd1-4229-96e2-b0d3b4625426",
   "metadata": {},
   "outputs": [],
   "source": [
    "fit('total_wellbeing ~ C(age_group) + v9 + v65 + midsleep + C(salutation)', model_data2)"
   ]
  },
  {
   "cell_type": "code",
   "execution_count": null,
   "id": "08eac979-5bfe-47b8-bbd0-a0d17de921f2",
   "metadata": {},
   "outputs": [],
   "source": [
    "fit('total_wellbeing ~ C(age_group) + v9 + v65 + midsleep + v43 + C(salutation)', model_data3)"
   ]
  }
 ],
 "metadata": {
  "kernelspec": {
   "display_name": "Python 3 (ipykernel)",
   "language": "python",
   "name": "python3"
  },
  "language_info": {
   "codemirror_mode": {
    "name": "ipython",
    "version": 3
   },
   "file_extension": ".py",
   "mimetype": "text/x-python",
   "name": "python",
   "nbconvert_exporter": "python",
   "pygments_lexer": "ipython3",
   "version": "3.12.1"
  }
 },
 "nbformat": 4,
 "nbformat_minor": 5
}

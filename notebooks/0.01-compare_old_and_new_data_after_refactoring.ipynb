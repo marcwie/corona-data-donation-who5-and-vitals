{
 "cells": [
  {
   "cell_type": "code",
   "execution_count": 17,
   "id": "88e4f5a3",
   "metadata": {},
   "outputs": [],
   "source": [
    "import pandas as pd\n",
    "import numpy as np"
   ]
  },
  {
   "cell_type": "code",
   "execution_count": 18,
   "id": "e95d3220",
   "metadata": {},
   "outputs": [
    {
     "name": "stdout",
     "output_type": "stream",
     "text": [
      "0\n"
     ]
    }
   ],
   "source": [
    "surveys_old = pd.read_feather('../data/01_raw/who5_responses.feather')\n",
    "surveys_new = pd.read_feather('../data/01_raw_bak//who5_responses.feather')\n",
    "\n",
    "surveys_new.sort_values(by=['user_id', 'created_at'], inplace=True)\n",
    "surveys_old.sort_values(by=['user_id', 'created_at'], inplace=True)\n",
    "\n",
    "surveys_new.reset_index(drop=True, inplace=True)\n",
    "surveys_old.reset_index(drop=True, inplace=True)\n",
    "\n",
    "print((surveys_new != surveys_old).sum().sum())"
   ]
  },
  {
   "cell_type": "code",
   "execution_count": 19,
   "id": "2c7da75e",
   "metadata": {},
   "outputs": [
    {
     "name": "stdout",
     "output_type": "stream",
     "text": [
      "0\n"
     ]
    }
   ],
   "source": [
    "vitals_old = pd.read_feather('../data/01_raw/vitals.feather')\n",
    "vitals_new = pd.read_feather('../data/01_raw_bak//vitals.feather')\n",
    "    \n",
    "print((vitals_new != vitals_old).sum().sum())"
   ]
  },
  {
   "cell_type": "code",
   "execution_count": 20,
   "id": "851e8c31",
   "metadata": {},
   "outputs": [
    {
     "name": "stdout",
     "output_type": "stream",
     "text": [
      "0\n"
     ]
    }
   ],
   "source": [
    "users_old = pd.read_feather('../data/01_raw/users.feather')\n",
    "users_new = pd.read_feather('../data/01_raw_bak//users.feather')\n",
    "\n",
    "print((vitals_new != vitals_old).sum().sum())"
   ]
  },
  {
   "cell_type": "code",
   "execution_count": 21,
   "id": "ce692532-65bf-4d39-90ef-cc338695fd20",
   "metadata": {},
   "outputs": [
    {
     "name": "stdout",
     "output_type": "stream",
     "text": [
      "0\n"
     ]
    }
   ],
   "source": [
    "merge_data_old = pd.read_feather('../data/03_processed/input_data_users_surveys_rolling_vitals.feather')\n",
    "merge_data_new = pd.read_feather('../data/03_processed/merged_data_users_surveys_rolling_vitals.feather')\n",
    "\n",
    "print(((merge_data_new != merge_data_old) & ~(merge_data_old.isna())).sum().sum())"
   ]
  }
 ],
 "metadata": {
  "kernelspec": {
   "display_name": "Python 3 (ipykernel)",
   "language": "python",
   "name": "python3"
  },
  "language_info": {
   "codemirror_mode": {
    "name": "ipython",
    "version": 3
   },
   "file_extension": ".py",
   "mimetype": "text/x-python",
   "name": "python",
   "nbconvert_exporter": "python",
   "pygments_lexer": "ipython3",
   "version": "3.11.1"
  }
 },
 "nbformat": 4,
 "nbformat_minor": 5
}
